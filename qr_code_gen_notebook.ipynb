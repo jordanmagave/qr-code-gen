{
 "cells": [
  {
   "cell_type": "code",
   "execution_count": 17,
   "metadata": {},
   "outputs": [],
   "source": [
    "import qrcode\n",
    "import os\n",
    "from csv import reader\n",
    "\n",
    "inbox_localizacao = []\n",
    "\n",
    "with open('./data/lista_inbox_loc.csv', 'r') as read_obj:\n",
    "\n",
    "        csv_reader = reader(read_obj)\n",
    "\n",
    "        for row in csv_reader:\n",
    "                for loc in row:\n",
    "                    inbox_localizacao.append(loc)\n",
    "\n",
    "\n",
    "\n",
    "for local in inbox_localizacao:\n",
    "\n",
    "        # Link for website\n",
    "        input_data = \"https://b24-xbvvo7.bitrix24.site/matriculas2022/?utm_source=\"+local\n",
    "        #Creating an instance of qrcode\n",
    "\n",
    "        qr = qrcode.QRCode(\n",
    "                version=1,\n",
    "                box_size=10,\n",
    "                border=5)\n",
    "        qr.add_data(input_data)\n",
    "        qr.make(fit=True)\n",
    "        img = qr.make_image(fill='black', back_color='white')\n",
    "        img.save('./qr_code'+'qrcode' + local + '.png')"
   ]
  }
 ],
 "metadata": {
  "interpreter": {
   "hash": "828fe7e75cbe3d29935644ce5b26d66bc60c484e54b250c21dd38455a35db14b"
  },
  "kernelspec": {
   "display_name": "Python 3.10.0 ('qr-code-gen-Oo70sqHi')",
   "language": "python",
   "name": "python3"
  },
  "language_info": {
   "codemirror_mode": {
    "name": "ipython",
    "version": 3
   },
   "file_extension": ".py",
   "mimetype": "text/x-python",
   "name": "python",
   "nbconvert_exporter": "python",
   "pygments_lexer": "ipython3",
   "version": "3.10.0"
  },
  "orig_nbformat": 4
 },
 "nbformat": 4,
 "nbformat_minor": 2
}
